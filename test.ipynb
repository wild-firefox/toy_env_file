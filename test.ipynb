{
 "cells": [
  {
   "cell_type": "code",
   "execution_count": 3,
   "metadata": {},
   "outputs": [
    {
     "name": "stdout",
     "output_type": "stream",
     "text": [
      "0\n",
      "0.1\n",
      "defaultdict(<class 'int'>, {'non_existent_key': 0, 'count': 0.1})\n",
      "[1]\n"
     ]
    }
   ],
   "source": [
    "from collections import defaultdict\n",
    "\n",
    "# 创建一个 defaultdict，默认值为 0\n",
    "int_dict = defaultdict(int)\n",
    "\n",
    "# 访问不存在的键时，它会自动创建并返回 int() 的默认值，即 0\n",
    "print(int_dict['non_existent_key'])  # 输出：0\n",
    "\n",
    "# 可以直接对其进行累加\n",
    "int_dict['count'] += 0.1\n",
    "print(int_dict['count'])  # 输出：1\n",
    "\n",
    "print(int_dict)  # 输出：defaultdict(<class 'int'>, {'non_existent_key': 0, 'count': 1})\n",
    "\n",
    "# 创建一个 defaultdict，默认值为空列表\n",
    "list_dict = defaultdict(list)\n",
    "\n",
    "# 直接向键对应的列表中添加元素\n",
    "list_dict['key'].append(1)\n",
    "print(list_dict['key'])  # 输出：[1]\n"
   ]
  },
  {
   "cell_type": "code",
   "execution_count": 11,
   "metadata": {},
   "outputs": [
    {
     "name": "stdout",
     "output_type": "stream",
     "text": [
      "[[0 0]\n",
      " [0 0]\n",
      " [0 0]]\n",
      "[[0. 0.]\n",
      " [0. 0.]\n",
      " [0. 0.]]\n",
      "{1: 2, 3: 4}\n"
     ]
    }
   ],
   "source": [
    "import numpy as np\n",
    "[3] * 3\n",
    "a = np.array([3]) * 3\n",
    "len(a)\n",
    "c = np.zeros(2)\n",
    "v  = [0,0]\n",
    "a = np.array([v for i in range(3)])\n",
    "b = np.array([c for i in range(3)])\n",
    "print(a)\n",
    "print(b)\n",
    "k = {1:2, 3:4}\n",
    "for key, value in k.items():\n",
    "    value += 1\n",
    "print(k)"
   ]
  },
  {
   "cell_type": "code",
   "execution_count": 1,
   "metadata": {},
   "outputs": [
    {
     "data": {
      "text/plain": [
       "'MAPPO'"
      ]
     },
     "execution_count": 1,
     "metadata": {},
     "output_type": "execute_result"
    }
   ],
   "source": [
    "'MAPPO_decay_std_23'.split('_')[0]"
   ]
  }
 ],
 "metadata": {
  "kernelspec": {
   "display_name": "myrl",
   "language": "python",
   "name": "python3"
  },
  "language_info": {
   "codemirror_mode": {
    "name": "ipython",
    "version": 3
   },
   "file_extension": ".py",
   "mimetype": "text/x-python",
   "name": "python",
   "nbconvert_exporter": "python",
   "pygments_lexer": "ipython3",
   "version": "3.11.9"
  }
 },
 "nbformat": 4,
 "nbformat_minor": 2
}
